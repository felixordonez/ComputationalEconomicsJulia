{
 "cells": [
  {
   "cell_type": "markdown",
   "metadata": {},
   "source": [
    "# Functions, conditionals, loops, and intro to numerica methods\n",
    "1. Functions \n",
    "2. Loops\n",
    "3. Conditionals\n",
    "4. Numerical methods"
   ]
  },
  {
   "cell_type": "markdown",
   "metadata": {},
   "source": [
    "## Functions\n",
    "Functions are a fundamental part of programming in Julia, allowing us to store processes in an organized and efficient way. Generally, we declare them using the `function` command, followed by () and the respective `inputs`. The most common syntax will be using function function_name(input) -> output. Here's an example:\""
   ]
  },
  {
   "cell_type": "code",
   "execution_count": 1,
   "metadata": {},
   "outputs": [
    {
     "data": {
      "text/plain": [
       "f1 (generic function with 1 method)"
      ]
     },
     "execution_count": 1,
     "metadata": {},
     "output_type": "execute_result"
    }
   ],
   "source": [
    "function f1(a, b)\n",
    "    return a * b\n",
    "end"
   ]
  },
  {
   "cell_type": "markdown",
   "metadata": {},
   "source": [
    "Functions in Julia do not necessarily require explicitly declaring the return, but we do it to maintain some structure. As we see in the following example, the functions `f1` and `f2` are equivalent ($\\approx$)."
   ]
  },
  {
   "cell_type": "code",
   "execution_count": 2,
   "metadata": {},
   "outputs": [
    {
     "data": {
      "text/plain": [
       "true"
      ]
     },
     "execution_count": 2,
     "metadata": {},
     "output_type": "execute_result"
    }
   ],
   "source": [
    "function f2(a, b)\n",
    "    a * b\n",
    "end\n",
    "\n",
    "a = 1; b = 2\n",
    "f1(a,b) ≈ f2(a,b) "
   ]
  },
  {
   "cell_type": "markdown",
   "metadata": {},
   "source": [
    "Using the `@time` and `@btime` (from BenchmarkTools) macros, we can test the performance and space usage of our functions."
   ]
  },
  {
   "cell_type": "code",
   "execution_count": 3,
   "metadata": {},
   "outputs": [
    {
     "name": "stdout",
     "output_type": "stream",
     "text": [
      "  22.267 ns (0 allocations: 0 bytes)\n"
     ]
    },
    {
     "name": "stdout",
     "output_type": "stream",
     "text": [
      "  24.799 ns (0 allocations: 0 bytes)\n"
     ]
    },
    {
     "data": {
      "text/plain": [
       "2"
      ]
     },
     "execution_count": 3,
     "metadata": {},
     "output_type": "execute_result"
    }
   ],
   "source": [
    "using BenchmarkTools\n",
    "@btime f1(a,b)\n",
    "@btime f2(a,b)"
   ]
  },
  {
   "cell_type": "markdown",
   "metadata": {},
   "source": [
    "An important detail is that depending on how we declare our functions, they will work for scalars or arrays. For example, the function f1 does not work correctly with vectors."
   ]
  },
  {
   "cell_type": "code",
   "execution_count": 4,
   "metadata": {},
   "outputs": [
    {
     "ename": "LoadError",
     "evalue": "MethodError: no method matching *(::StepRangeLen{Float64, Base.TwicePrecision{Float64}, Base.TwicePrecision{Float64}, Int64}, ::Vector{Float64})\n\n\u001b[0mClosest candidates are:\n\u001b[0m  *(::Any, ::Any, \u001b[91m::Any\u001b[39m, \u001b[91m::Any...\u001b[39m)\n\u001b[0m\u001b[90m   @\u001b[39m \u001b[90mBase\u001b[39m \u001b[90m\u001b[4moperators.jl:587\u001b[24m\u001b[39m\n\u001b[0m  *(\u001b[91m::LinearAlgebra.LQ{TA, S, C} where {S<:AbstractMatrix{TA}, C<:AbstractVector{TA}}\u001b[39m, ::AbstractVecOrMat{TB}) where {TA, TB}\n\u001b[0m\u001b[90m   @\u001b[39m \u001b[36mLinearAlgebra\u001b[39m \u001b[90mC:\\Users\\felix\\AppData\\Local\\Programs\\Julia-1.10.0\\share\\julia\\stdlib\\v1.10\\LinearAlgebra\\src\\\u001b[39m\u001b[90m\u001b[4mlq.jl:167\u001b[24m\u001b[39m\n\u001b[0m  *(\u001b[91m::Number\u001b[39m, ::AbstractArray)\n\u001b[0m\u001b[90m   @\u001b[39m \u001b[90mBase\u001b[39m \u001b[90m\u001b[4marraymath.jl:21\u001b[24m\u001b[39m\n\u001b[0m  ...\n",
     "output_type": "error",
     "traceback": [
      "MethodError: no method matching *(::StepRangeLen{Float64, Base.TwicePrecision{Float64}, Base.TwicePrecision{Float64}, Int64}, ::Vector{Float64})\n\n\u001b[0mClosest candidates are:\n\u001b[0m  *(::Any, ::Any, \u001b[91m::Any\u001b[39m, \u001b[91m::Any...\u001b[39m)\n\u001b[0m\u001b[90m   @\u001b[39m \u001b[90mBase\u001b[39m \u001b[90m\u001b[4moperators.jl:587\u001b[24m\u001b[39m\n\u001b[0m  *(\u001b[91m::LinearAlgebra.LQ{TA, S, C} where {S<:AbstractMatrix{TA}, C<:AbstractVector{TA}}\u001b[39m, ::AbstractVecOrMat{TB}) where {TA, TB}\n\u001b[0m\u001b[90m   @\u001b[39m \u001b[36mLinearAlgebra\u001b[39m \u001b[90mC:\\Users\\felix\\AppData\\Local\\Programs\\Julia-1.10.0\\share\\julia\\stdlib\\v1.10\\LinearAlgebra\\src\\\u001b[39m\u001b[90m\u001b[4mlq.jl:167\u001b[24m\u001b[39m\n\u001b[0m  *(\u001b[91m::Number\u001b[39m, ::AbstractArray)\n\u001b[0m\u001b[90m   @\u001b[39m \u001b[90mBase\u001b[39m \u001b[90m\u001b[4marraymath.jl:21\u001b[24m\u001b[39m\n\u001b[0m  ...\n",
      "",
      "Stacktrace:",
      " [1] f1(a::StepRangeLen{Float64, Base.TwicePrecision{Float64}, Base.TwicePrecision{Float64}, Int64}, b::Vector{Float64})",
      "   @ Main .\\In[1]:2",
      " [2] top-level scope",
      "   @ In[4]:5"
     ]
    }
   ],
   "source": [
    "N = 100\n",
    "a = range(0,100, N)\n",
    "b = randn(N)\n",
    "\n",
    "c = f1(a,b) #Error"
   ]
  },
  {
   "cell_type": "markdown",
   "metadata": {},
   "source": [
    "To solve this, in this specific case, we can perform an *element-by-element* multiplication using `.*`."
   ]
  },
  {
   "cell_type": "code",
   "execution_count": null,
   "metadata": {},
   "outputs": [
    {
     "name": "stdout",
     "output_type": "stream",
     "text": [
      "  154.375 ns (1 allocation: 896 bytes)\n"
     ]
    }
   ],
   "source": [
    "function f1(a, b)\n",
    "    return a .* b\n",
    "end\n",
    "\n",
    "N = 100\n",
    "a = range(0,100, N)\n",
    "b = randn(N)\n",
    "\n",
    "@btime c = f1(a,b);"
   ]
  },
  {
   "cell_type": "markdown",
   "metadata": {},
   "source": [
    "A very commonly used type of function in Julia is called in-place. We create these functions to reduce the number of allocations that our code generates. \n",
    "- These functions conventionally carry the `!` sign, \n",
    "- The variable that is the output explicitly goes as an input. \n",
    "- Additionally, this array is completely replaced in the function `.=`. In this way, the element is not recreated, but replaced, which reduces the number of allocations and potentially reduces the function's execution time (check with `@btime`).\n",
    "\n"
   ]
  },
  {
   "cell_type": "code",
   "execution_count": null,
   "metadata": {},
   "outputs": [
    {
     "name": "stdout",
     "output_type": "stream",
     "text": [
      "  139.394 ns (0 allocations: 0 bytes)\n"
     ]
    }
   ],
   "source": [
    "function f1!(out, a, b) #a,b->out\n",
    "     out .= a .* b\n",
    "end\n",
    "\n",
    "N = 100\n",
    "a = range(0,100, N)\n",
    "b = randn(N)\n",
    "\n",
    "out = similar(a)\n",
    "@btime f1!(out, a, b);"
   ]
  },
  {
   "cell_type": "markdown",
   "metadata": {},
   "source": [
    "To provide more detail to the functions, we can explicitly specify the types of the inputs that the function has. The purpose of this is to have full control over what goes in and what comes out, thus avoiding potential errors. Julia slows down when we are constantly changing types, for example, if in a loop the matrix A changes from an array to a float successively, this process will potentially be slow."
   ]
  },
  {
   "cell_type": "code",
   "execution_count": null,
   "metadata": {},
   "outputs": [
    {
     "ename": "LoadError",
     "evalue": "MethodError: no method matching f3(::Float64, ::Float64)",
     "output_type": "error",
     "traceback": [
      "MethodError: no method matching f3(::Float64, ::Float64)",
      "",
      "Stacktrace:",
      " [1] top-level scope",
      "   @ In[30]:9"
     ]
    }
   ],
   "source": [
    "function f3(a::Vector{Float64}, b::Vector{Float64})\n",
    "    return a .* b\n",
    "end\n",
    "\n",
    "c = f3(1.0, 1.0) #Error "
   ]
  },
  {
   "cell_type": "markdown",
   "metadata": {},
   "source": [
    "In Julia, we can create functions without the need to explicitly use the word function. We use this mainly when our function is something simple, for example:"
   ]
  },
  {
   "cell_type": "code",
   "execution_count": null,
   "metadata": {},
   "outputs": [
    {
     "data": {
      "text/plain": [
       "f (generic function with 1 method)"
      ]
     },
     "execution_count": 39,
     "metadata": {},
     "output_type": "execute_result"
    }
   ],
   "source": [
    "f(x) = sin(1 / x)"
   ]
  },
  {
   "cell_type": "markdown",
   "metadata": {},
   "source": [
    "Similarly, we can apply a function element by element, using the map() function."
   ]
  },
  {
   "cell_type": "code",
   "execution_count": null,
   "metadata": {},
   "outputs": [],
   "source": [
    "map(x -> sin(1 / x), randn(3));  # apply function to each element"
   ]
  },
  {
   "cell_type": "markdown",
   "metadata": {},
   "source": [
    "Finally, in this section on functions, we will use predefined values. For example, if we have a model f(x) that includes a parameter $\\alpha$, we can give it an initial value or a default value and define it at the beginning of the function."
   ]
  },
  {
   "cell_type": "code",
   "execution_count": null,
   "metadata": {},
   "outputs": [
    {
     "data": {
      "text/plain": [
       "f (generic function with 2 methods)"
      ]
     },
     "execution_count": 2,
     "metadata": {},
     "output_type": "execute_result"
    }
   ],
   "source": [
    "f(x, α = 1) = exp(cos(α * x))"
   ]
  },
  {
   "cell_type": "markdown",
   "metadata": {},
   "source": [
    "### Exercises\n",
    "1. Create a function out-place of $f(x,y)=(a-x)^2 + b(y)^2$\n",
    "2. Create a function in-place of $f(x,y)=(a-x)^2 + b(y)^2$\n",
    "3. Create a grid of x and y of dimension N=100 and evaluate the functions. \n",
    "4. Test if the results are the same ($\\approx$) and the performance (@btime and @time). "
   ]
  },
  {
   "cell_type": "markdown",
   "metadata": {},
   "source": [
    "## Loops\n",
    "We use iterations for repetitive processes, for example, iterating from 1 to N, iterating over the elements of a vector, or over the rows and columns of a matrix. This makes it easy to repeat a process and is quite efficient in Julia."
   ]
  },
  {
   "cell_type": "code",
   "execution_count": null,
   "metadata": {},
   "outputs": [
    {
     "name": "stdout",
     "output_type": "stream",
     "text": [
      "12345678910"
     ]
    }
   ],
   "source": [
    "for i in 1:10\n",
    "    print(i)\n",
    "end\n"
   ]
  },
  {
   "cell_type": "code",
   "execution_count": null,
   "metadata": {},
   "outputs": [
    {
     "name": "stdout",
     "output_type": "stream",
     "text": [
      "123456789101112131415161718192021222324252627282930313233343536373839404142434445464748495051525354555657585960616263646566676869707172737475767778798081828384858687888990919293949596979899100"
     ]
    }
   ],
   "source": [
    "index = range(1,100)\n",
    "for i in index\n",
    "    print(i)\n",
    "end"
   ]
  },
  {
   "cell_type": "markdown",
   "metadata": {},
   "source": [
    "You can create an empty element `Any[]` and place the result in it using the `push!()` function (notice, this is an in-place function)."
   ]
  },
  {
   "cell_type": "code",
   "execution_count": null,
   "metadata": {},
   "outputs": [],
   "source": [
    "x = rand(100)\n",
    "k_x = Any[]\n",
    "v_x = Any[]\n",
    "\n",
    "for (k,v) in enumerate(x)\n",
    "    push!(k_x, k)\n",
    "    push!(v_x, v)\n",
    "end"
   ]
  },
  {
   "cell_type": "markdown",
   "metadata": {},
   "source": [
    "Matrix multiplication can be done directly (A*B) or through iteration of the rows and columns."
   ]
  },
  {
   "cell_type": "code",
   "execution_count": null,
   "metadata": {},
   "outputs": [],
   "source": [
    "A = rand(100, 10) \n",
    "B = rand(10, 100)  \n",
    "\n",
    "C1 = A * B;  "
   ]
  },
  {
   "cell_type": "code",
   "execution_count": null,
   "metadata": {},
   "outputs": [
    {
     "data": {
      "text/plain": [
       "true"
      ]
     },
     "execution_count": 56,
     "metadata": {},
     "output_type": "execute_result"
    }
   ],
   "source": [
    "# Inicializar matriz C con ceros\n",
    "C2 = zeros(100, 100)\n",
    "\n",
    "# Multiplicar matrices usando un loop\n",
    "for i in 1:100\n",
    "    for j in 1:100\n",
    "        for k in 1:10\n",
    "            C2[i, j] += A[i, k] * B[k, j]\n",
    "        end\n",
    "    end\n",
    "end\n",
    "\n",
    "C1 ≈ C2"
   ]
  },
  {
   "cell_type": "markdown",
   "metadata": {},
   "source": [
    "Loops are a fundamental tool in Julia, and we will use them throughout the entire course. A simple example (from [QuantEcon](https://julia.quantecon.org/introduction_dynamics/scalar_dynam.html)) is, for instance, to plot the time series of capital."
   ]
  },
  {
   "cell_type": "code",
   "execution_count": null,
   "metadata": {},
   "outputs": [
    {
     "data": {
      "image/png": "[encoded data removed]",
      "image/svg+xml": [
       "<?xml version=\"1.0\" encoding=\"utf-8\"?>\n",
       "<svg xmlns=\"http://www.w3.org/2000/svg\" xmlns:xlink=\"http://www.w3.org/1999/xlink\" width=\"600\" height=\"400\" viewBox=\"0 0 2400 1600\">\n",
       "<defs>\n",
       "  <clipPath id=\"clip430\">\n",
       "    <rect x=\"0\" y=\"0\" width=\"2400\" height=\"1600\"/>\n",
       "  </clipPath>\n",
       "</defs>\n",
       "<path clip-path=\"url(#clip430)\" d=\"M0 1600 L2400 1600 L2400 0 L0 0  Z\" fill=\"#ffffff\" fill-rule=\"evenodd\" fill-opacity=\"1\"/>\n",
       "<defs>\n",
       "  <clipPath id=\"clip431\">\n",
       "    <rect x=\"480\" y=\"0\" width=\"1681\" height=\"1600\"/>\n",
       "  </clipPath>\n",
       "</defs>\n",
       "<path clip-path=\"url(#clip430)\" d=\"M186.274 1423.18 L2352.76 1423.18 L2352.76 47.2441 L186.274 47.2441  Z\" fill=\"#ffffff\" fill-rule=\"evenodd\" fill-opacity=\"1\"/>\n",
       "<defs>\n",
       "  <clipPath id=\"clip432\">\n",
       "    <rect x=\"186\" y=\"47\" width=\"2167\" height=\"1377\"/>\n",
       "  </clipPath>\n",
       "</defs>\n",
       "<polyline clip-path=\"url(#clip432)\" style=\"stroke:#000000; stroke-linecap:round; stroke-linejoin:round; stroke-width:2; stroke-opacity:0.1; fill:none\" points=\"247.59,1423.18 247.59,47.2441 \"/>\n",
       "<polyline clip-path=\"url(#clip432)\" style=\"stroke:#000000; stroke-linecap:round; stroke-linejoin:round; stroke-width:2; stroke-opacity:0.1; fill:none\" points=\"656.36,1423.18 656.36,47.2441 \"/>\n",
       "<polyline clip-path=\"url(#clip432)\" style=\"stroke:#000000; stroke-linecap:round; stroke-linejoin:round; stroke-width:2; stroke-opacity:0.1; fill:none\" points=\"1065.13,1423.18 1065.13,47.2441 \"/>\n",
       "<polyline clip-path=\"url(#clip432)\" style=\"stroke:#000000; stroke-linecap:round; stroke-linejoin:round; stroke-width:2; stroke-opacity:0.1; fill:none\" points=\"1473.9,1423.18 1473.9,47.2441 \"/>\n",
       "<polyline clip-path=\"url(#clip432)\" style=\"stroke:#000000; stroke-linecap:round; stroke-linejoin:round; stroke-width:2; stroke-opacity:0.1; fill:none\" points=\"1882.67,1423.18 1882.67,47.2441 \"/>\n",
       "<polyline clip-path=\"url(#clip432)\" style=\"stroke:#000000; stroke-linecap:round; stroke-linejoin:round; stroke-width:2; stroke-opacity:0.1; fill:none\" points=\"2291.44,1423.18 2291.44,47.2441 \"/>\n",
       "<polyline clip-path=\"url(#clip430)\" style=\"stroke:#000000; stroke-linecap:round; stroke-linejoin:round; stroke-width:4; stroke-opacity:1; fill:none\" points=\"186.274,1423.18 2352.76,1423.18 \"/>\n",
       "<polyline clip-path=\"url(#clip430)\" style=\"stroke:#000000; stroke-linecap:round; stroke-linejoin:round; stroke-width:4; stroke-opacity:1; fill:none\" points=\"247.59,1423.18 247.59,1404.28 \"/>\n",
       "<polyline clip-path=\"url(#clip430)\" style=\"stroke:#000000; stroke-linecap:round; stroke-linejoin:round; stroke-width:4; stroke-opacity:1; fill:none\" points=\"656.36,1423.18 656.36,1404.28 \"/>\n",
       "<polyline clip-path=\"url(#clip430)\" style=\"stroke:#000000; stroke-linecap:round; stroke-linejoin:round; stroke-width:4; stroke-opacity:1; fill:none\" points=\"1065.13,1423.18 1065.13,1404.28 \"/>\n",
       "<polyline clip-path=\"url(#clip430)\" style=\"stroke:#000000; stroke-linecap:round; stroke-linejoin:round; stroke-width:4; stroke-opacity:1; fill:none\" points=\"1473.9,1423.18 1473.9,1404.28 \"/>\n",
       "<polyline clip-path=\"url(#clip430)\" style=\"stroke:#000000; stroke-linecap:round; stroke-linejoin:round; stroke-width:4; stroke-opacity:1; fill:none\" points=\"1882.67,1423.18 1882.67,1404.28 \"/>\n",
       "<polyline clip-path=\"url(#clip430)\" style=\"stroke:#000000; stroke-linecap:round; stroke-linejoin:round; stroke-width:4; stroke-opacity:1; fill:none\" points=\"2291.44,1423.18 2291.44,1404.28 \"/>\n",
       "<path clip-path=\"url(#clip430)\" d=\"M247.59 1454.1 Q243.978 1454.1 242.15 1457.66 Q240.344 1461.2 240.344 1468.33 Q240.344 1475.44 242.15 1479.01 Q243.978 1482.55 247.59 1482.55 Q251.224 1482.55 253.029 1479.01 Q254.858 1475.44 254.858 1468.33 Q254.858 1461.2 253.029 1457.66 Q251.224 1454.1 247.59 1454.1 M247.59 1450.39 Q253.4 1450.39 256.455 1455 Q259.534 1459.58 259.534 1468.33 Q259.534 1477.06 256.455 1481.67 Q253.4 1486.25 247.59 1486.25 Q241.779 1486.25 238.701 1481.67 Q235.645 1477.06 235.645 1468.33 Q235.645 1459.58 238.701 1455 Q241.779 1450.39 247.59 1450.39 Z\" fill=\"#000000\" fill-rule=\"nonzero\" fill-opacity=\"1\" /><path clip-path=\"url(#clip430)\" d=\"M646.742 1481.64 L654.381 1481.64 L654.381 1455.28 L646.07 1456.95 L646.07 1452.69 L654.334 1451.02 L659.01 1451.02 L659.01 1481.64 L666.649 1481.64 L666.649 1485.58 L646.742 1485.58 L646.742 1481.64 Z\" fill=\"#000000\" fill-rule=\"nonzero\" fill-opacity=\"1\" /><path clip-path=\"url(#clip430)\" d=\"M1059.78 1481.64 L1076.1 1481.64 L1076.1 1485.58 L1054.16 1485.58 L1054.16 1481.64 Q1056.82 1478.89 1061.4 1474.26 Q1066.01 1469.61 1067.19 1468.27 Q1069.44 1465.74 1070.32 1464.01 Q1071.22 1462.25 1071.22 1460.56 Q1071.22 1457.8 1069.27 1456.07 Q1067.35 1454.33 1064.25 1454.33 Q1062.05 1454.33 1059.6 1455.09 Q1057.17 1455.86 1054.39 1457.41 L1054.39 1452.69 Q1057.21 1451.55 1059.67 1450.97 Q1062.12 1450.39 1064.16 1450.39 Q1069.53 1450.39 1072.72 1453.08 Q1075.92 1455.77 1075.92 1460.26 Q1075.92 1462.39 1075.11 1464.31 Q1074.32 1466.2 1072.21 1468.8 Q1071.63 1469.47 1068.53 1472.69 Q1065.43 1475.88 1059.78 1481.64 Z\" fill=\"#000000\" fill-rule=\"nonzero\" fill-opacity=\"1\" /><path clip-path=\"url(#clip430)\" d=\"M1478.15 1466.95 Q1481.5 1467.66 1483.38 1469.93 Q1485.28 1472.2 1485.28 1475.53 Q1485.28 1480.65 1481.76 1483.45 Q1478.24 1486.25 1471.76 1486.25 Q1469.58 1486.25 1467.27 1485.81 Q1464.98 1485.39 1462.52 1484.54 L1462.52 1480.02 Q1464.47 1481.16 1466.78 1481.74 Q1469.1 1482.32 1471.62 1482.32 Q1476.02 1482.32 1478.31 1480.58 Q1480.62 1478.84 1480.62 1475.53 Q1480.62 1472.48 1478.47 1470.77 Q1476.34 1469.03 1472.52 1469.03 L1468.49 1469.03 L1468.49 1465.19 L1472.71 1465.19 Q1476.16 1465.19 1477.99 1463.82 Q1479.81 1462.43 1479.81 1459.84 Q1479.81 1457.18 1477.92 1455.77 Q1476.04 1454.33 1472.52 1454.33 Q1470.6 1454.33 1468.4 1454.75 Q1466.2 1455.16 1463.56 1456.04 L1463.56 1451.88 Q1466.23 1451.14 1468.54 1450.77 Q1470.88 1450.39 1472.94 1450.39 Q1478.26 1450.39 1481.37 1452.83 Q1484.47 1455.23 1484.47 1459.35 Q1484.47 1462.22 1482.82 1464.21 Q1481.18 1466.18 1478.15 1466.95 Z\" fill=\"#000000\" fill-rule=\"nonzero\" fill-opacity=\"1\" /><path clip-path=\"url(#clip430)\" d=\"M1885.68 1455.09 L1873.87 1473.54 L1885.68 1473.54 L1885.68 1455.09 M1884.45 1451.02 L1890.33 1451.02 L1890.33 1473.54 L1895.26 1473.54 L1895.26 1477.43 L1890.33 1477.43 L1890.33 1485.58 L1885.68 1485.58 L1885.68 1477.43 L1870.08 1477.43 L1870.08 1472.92 L1884.45 1451.02 Z\" fill=\"#000000\" fill-rule=\"nonzero\" fill-opacity=\"1\" /><path clip-path=\"url(#clip430)\" d=\"M2281.72 1451.02 L2300.07 1451.02 L2300.07 1454.96 L2286 1454.96 L2286 1463.43 Q2287.02 1463.08 2288.04 1462.92 Q2289.06 1462.73 2290.07 1462.73 Q2295.86 1462.73 2299.24 1465.9 Q2302.62 1469.08 2302.62 1474.49 Q2302.62 1480.07 2299.15 1483.17 Q2295.68 1486.25 2289.36 1486.25 Q2287.18 1486.25 2284.91 1485.88 Q2282.67 1485.51 2280.26 1484.77 L2280.26 1480.07 Q2282.34 1481.2 2284.57 1481.76 Q2286.79 1482.32 2289.26 1482.32 Q2293.27 1482.32 2295.61 1480.21 Q2297.94 1478.1 2297.94 1474.49 Q2297.94 1470.88 2295.61 1468.77 Q2293.27 1466.67 2289.26 1466.67 Q2287.39 1466.67 2285.51 1467.08 Q2283.66 1467.5 2281.72 1468.38 L2281.72 1451.02 Z\" fill=\"#000000\" fill-rule=\"nonzero\" fill-opacity=\"1\" /><path clip-path=\"url(#clip430)\" d=\"M1268.58 1522.27 L1268.58 1532.4 L1280.64 1532.4 L1280.64 1536.95 L1268.58 1536.95 L1268.58 1556.3 Q1268.58 1560.66 1269.75 1561.9 Q1270.96 1563.14 1274.62 1563.14 L1280.64 1563.14 L1280.64 1568.04 L1274.62 1568.04 Q1267.84 1568.04 1265.27 1565.53 Q1262.69 1562.98 1262.69 1556.3 L1262.69 1536.95 L1258.39 1536.95 L1258.39 1532.4 L1262.69 1532.4 L1262.69 1522.27 L1268.58 1522.27 Z\" fill=\"#000000\" fill-rule=\"nonzero\" fill-opacity=\"1\" /><polyline clip-path=\"url(#clip432)\" style=\"stroke:#000000; stroke-linecap:round; stroke-linejoin:round; stroke-width:2; stroke-opacity:0.1; fill:none\" points=\"186.274,1384.24 2352.76,1384.24 \"/>\n",
       "<polyline clip-path=\"url(#clip432)\" style=\"stroke:#000000; stroke-linecap:round; stroke-linejoin:round; stroke-width:2; stroke-opacity:0.1; fill:none\" points=\"186.274,1099.85 2352.76,1099.85 \"/>\n",
       "<polyline clip-path=\"url(#clip432)\" style=\"stroke:#000000; stroke-linecap:round; stroke-linejoin:round; stroke-width:2; stroke-opacity:0.1; fill:none\" points=\"186.274,815.463 2352.76,815.463 \"/>\n",
       "<polyline clip-path=\"url(#clip432)\" style=\"stroke:#000000; stroke-linecap:round; stroke-linejoin:round; stroke-width:2; stroke-opacity:0.1; fill:none\" points=\"186.274,531.075 2352.76,531.075 \"/>\n",
       "<polyline clip-path=\"url(#clip432)\" style=\"stroke:#000000; stroke-linecap:round; stroke-linejoin:round; stroke-width:2; stroke-opacity:0.1; fill:none\" points=\"186.274,246.687 2352.76,246.687 \"/>\n",
       "<polyline clip-path=\"url(#clip430)\" style=\"stroke:#000000; stroke-linecap:round; stroke-linejoin:round; stroke-width:4; stroke-opacity:1; fill:none\" points=\"186.274,1423.18 186.274,47.2441 \"/>\n",
       "<polyline clip-path=\"url(#clip430)\" style=\"stroke:#000000; stroke-linecap:round; stroke-linejoin:round; stroke-width:4; stroke-opacity:1; fill:none\" points=\"186.274,1384.24 205.172,1384.24 \"/>\n",
       "<polyline clip-path=\"url(#clip430)\" style=\"stroke:#000000; stroke-linecap:round; stroke-linejoin:round; stroke-width:4; stroke-opacity:1; fill:none\" points=\"186.274,1099.85 205.172,1099.85 \"/>\n",
       "<polyline clip-path=\"url(#clip430)\" style=\"stroke:#000000; stroke-linecap:round; stroke-linejoin:round; stroke-width:4; stroke-opacity:1; fill:none\" points=\"186.274,815.463 205.172,815.463 \"/>\n",
       "<polyline clip-path=\"url(#clip430)\" style=\"stroke:#000000; stroke-linecap:round; stroke-linejoin:round; stroke-width:4; stroke-opacity:1; fill:none\" points=\"186.274,531.075 205.172,531.075 \"/>\n",
       "<polyline clip-path=\"url(#clip430)\" style=\"stroke:#000000; stroke-linecap:round; stroke-linejoin:round; stroke-width:4; stroke-opacity:1; fill:none\" points=\"186.274,246.687 205.172,246.687 \"/>\n",
       "<path clip-path=\"url(#clip430)\" d=\"M63.9319 1370.04 Q60.3208 1370.04 58.4921 1373.6 Q56.6865 1377.14 56.6865 1384.27 Q56.6865 1391.38 58.4921 1394.94 Q60.3208 1398.49 63.9319 1398.49 Q67.5661 1398.49 69.3717 1394.94 Q71.2004 1391.38 71.2004 1384.27 Q71.2004 1377.14 69.3717 1373.6 Q67.5661 1370.04 63.9319 1370.04 M63.9319 1366.33 Q69.742 1366.33 72.7976 1370.94 Q75.8763 1375.52 75.8763 1384.27 Q75.8763 1393 72.7976 1397.61 Q69.742 1402.19 63.9319 1402.19 Q58.1217 1402.19 55.043 1397.61 Q51.9875 1393 51.9875 1384.27 Q51.9875 1375.52 55.043 1370.94 Q58.1217 1366.33 63.9319 1366.33 Z\" fill=\"#000000\" fill-rule=\"nonzero\" fill-opacity=\"1\" /><path clip-path=\"url(#clip430)\" d=\"M84.0938 1395.64 L88.978 1395.64 L88.978 1401.52 L84.0938 1401.52 L84.0938 1395.64 Z\" fill=\"#000000\" fill-rule=\"nonzero\" fill-opacity=\"1\" /><path clip-path=\"url(#clip430)\" d=\"M103.191 1397.58 L119.51 1397.58 L119.51 1401.52 L97.566 1401.52 L97.566 1397.58 Q100.228 1394.83 104.811 1390.2 Q109.418 1385.55 110.598 1384.2 Q112.844 1381.68 113.723 1379.94 Q114.626 1378.19 114.626 1376.5 Q114.626 1373.74 112.682 1372 Q110.76 1370.27 107.658 1370.27 Q105.459 1370.27 103.006 1371.03 Q100.575 1371.8 97.7974 1373.35 L97.7974 1368.62 Q100.621 1367.49 103.075 1366.91 Q105.529 1366.33 107.566 1366.33 Q112.936 1366.33 116.131 1369.02 Q119.325 1371.7 119.325 1376.19 Q119.325 1378.32 118.515 1380.25 Q117.728 1382.14 115.621 1384.74 Q115.043 1385.41 111.941 1388.62 Q108.839 1391.82 103.191 1397.58 Z\" fill=\"#000000\" fill-rule=\"nonzero\" fill-opacity=\"1\" /><path clip-path=\"url(#clip430)\" d=\"M129.371 1366.96 L147.728 1366.96 L147.728 1370.89 L133.654 1370.89 L133.654 1379.37 Q134.672 1379.02 135.691 1378.86 Q136.709 1378.67 137.728 1378.67 Q143.515 1378.67 146.894 1381.84 Q150.274 1385.01 150.274 1390.43 Q150.274 1396.01 146.802 1399.11 Q143.33 1402.19 137.01 1402.19 Q134.834 1402.19 132.566 1401.82 Q130.32 1401.45 127.913 1400.71 L127.913 1396.01 Q129.996 1397.14 132.219 1397.7 Q134.441 1398.25 136.918 1398.25 Q140.922 1398.25 143.26 1396.15 Q145.598 1394.04 145.598 1390.43 Q145.598 1386.82 143.26 1384.71 Q140.922 1382.61 136.918 1382.61 Q135.043 1382.61 133.168 1383.02 Q131.316 1383.44 129.371 1384.32 L129.371 1366.96 Z\" fill=\"#000000\" fill-rule=\"nonzero\" fill-opacity=\"1\" /><path clip-path=\"url(#clip430)\" d=\"M62.9365 1085.65 Q59.3254 1085.65 57.4967 1089.21 Q55.6912 1092.76 55.6912 1099.89 Q55.6912 1106.99 57.4967 1110.56 Q59.3254 1114.1 62.9365 1114.1 Q66.5707 1114.1 68.3763 1110.56 Q70.205 1106.99 70.205 1099.89 Q70.205 1092.76 68.3763 1089.21 Q66.5707 1085.65 62.9365 1085.65 M62.9365 1081.95 Q68.7467 1081.95 71.8022 1086.55 Q74.8809 1091.14 74.8809 1099.89 Q74.8809 1108.61 71.8022 1113.22 Q68.7467 1117.8 62.9365 1117.8 Q57.1264 1117.8 54.0477 1113.22 Q50.9921 1108.61 50.9921 1099.89 Q50.9921 1091.14 54.0477 1086.55 Q57.1264 1081.95 62.9365 1081.95 Z\" fill=\"#000000\" fill-rule=\"nonzero\" fill-opacity=\"1\" /><path clip-path=\"url(#clip430)\" d=\"M83.0984 1111.25 L87.9827 1111.25 L87.9827 1117.13 L83.0984 1117.13 L83.0984 1111.25 Z\" fill=\"#000000\" fill-rule=\"nonzero\" fill-opacity=\"1\" /><path clip-path=\"url(#clip430)\" d=\"M98.2141 1082.57 L116.57 1082.57 L116.57 1086.51 L102.496 1086.51 L102.496 1094.98 Q103.515 1094.63 104.534 1094.47 Q105.552 1094.28 106.571 1094.28 Q112.358 1094.28 115.737 1097.45 Q119.117 1100.63 119.117 1106.04 Q119.117 1111.62 115.645 1114.72 Q112.172 1117.8 105.853 1117.8 Q103.677 1117.8 101.409 1117.43 Q99.1632 1117.06 96.7558 1116.32 L96.7558 1111.62 Q98.8391 1112.76 101.061 1113.31 Q103.284 1113.87 105.76 1113.87 Q109.765 1113.87 112.103 1111.76 Q114.441 1109.65 114.441 1106.04 Q114.441 1102.43 112.103 1100.33 Q109.765 1098.22 105.76 1098.22 Q103.885 1098.22 102.01 1098.64 Q100.159 1099.05 98.2141 1099.93 L98.2141 1082.57 Z\" fill=\"#000000\" fill-rule=\"nonzero\" fill-opacity=\"1\" /><path clip-path=\"url(#clip430)\" d=\"M138.33 1085.65 Q134.719 1085.65 132.89 1089.21 Q131.084 1092.76 131.084 1099.89 Q131.084 1106.99 132.89 1110.56 Q134.719 1114.1 138.33 1114.1 Q141.964 1114.1 143.769 1110.56 Q145.598 1106.99 145.598 1099.89 Q145.598 1092.76 143.769 1089.21 Q141.964 1085.65 138.33 1085.65 M138.33 1081.95 Q144.14 1081.95 147.195 1086.55 Q150.274 1091.14 150.274 1099.89 Q150.274 1108.61 147.195 1113.22 Q144.14 1117.8 138.33 1117.8 Q132.519 1117.8 129.441 1113.22 Q126.385 1108.61 126.385 1099.89 Q126.385 1091.14 129.441 1086.55 Q132.519 1081.95 138.33 1081.95 Z\" fill=\"#000000\" fill-rule=\"nonzero\" fill-opacity=\"1\" /><path clip-path=\"url(#clip430)\" d=\"M63.9319 801.261 Q60.3208 801.261 58.4921 804.826 Q56.6865 808.368 56.6865 815.497 Q56.6865 822.604 58.4921 826.169 Q60.3208 829.71 63.9319 829.71 Q67.5661 829.71 69.3717 826.169 Q71.2004 822.604 71.2004 815.497 Q71.2004 808.368 69.3717 804.826 Q67.5661 801.261 63.9319 801.261 M63.9319 797.558 Q69.742 797.558 72.7976 802.164 Q75.8763 806.747 75.8763 815.497 Q75.8763 824.224 72.7976 828.831 Q69.742 833.414 63.9319 833.414 Q58.1217 833.414 55.043 828.831 Q51.9875 824.224 51.9875 815.497 Q51.9875 806.747 55.043 802.164 Q58.1217 797.558 63.9319 797.558 Z\" fill=\"#000000\" fill-rule=\"nonzero\" fill-opacity=\"1\" /><path clip-path=\"url(#clip430)\" d=\"M84.0938 826.863 L88.978 826.863 L88.978 832.743 L84.0938 832.743 L84.0938 826.863 Z\" fill=\"#000000\" fill-rule=\"nonzero\" fill-opacity=\"1\" /><path clip-path=\"url(#clip430)\" d=\"M97.9826 798.183 L120.205 798.183 L120.205 800.173 L107.658 832.743 L102.774 832.743 L114.58 802.118 L97.9826 802.118 L97.9826 798.183 Z\" fill=\"#000000\" fill-rule=\"nonzero\" fill-opacity=\"1\" /><path clip-path=\"url(#clip430)\" d=\"M129.371 798.183 L147.728 798.183 L147.728 802.118 L133.654 802.118 L133.654 810.59 Q134.672 810.243 135.691 810.081 Q136.709 809.896 137.728 809.896 Q143.515 809.896 146.894 813.067 Q150.274 816.238 150.274 821.655 Q150.274 827.233 146.802 830.335 Q143.33 833.414 137.01 833.414 Q134.834 833.414 132.566 833.044 Q130.32 832.673 127.913 831.933 L127.913 827.233 Q129.996 828.368 132.219 828.923 Q134.441 829.479 136.918 829.479 Q140.922 829.479 143.26 827.372 Q145.598 825.266 145.598 821.655 Q145.598 818.044 143.26 815.937 Q140.922 813.831 136.918 813.831 Q135.043 813.831 133.168 814.247 Q131.316 814.664 129.371 815.544 L129.371 798.183 Z\" fill=\"#000000\" fill-rule=\"nonzero\" fill-opacity=\"1\" /><path clip-path=\"url(#clip430)\" d=\"M53.7467 544.42 L61.3856 544.42 L61.3856 518.054 L53.0754 519.721 L53.0754 515.462 L61.3393 513.795 L66.0152 513.795 L66.0152 544.42 L73.654 544.42 L73.654 548.355 L53.7467 548.355 L53.7467 544.42 Z\" fill=\"#000000\" fill-rule=\"nonzero\" fill-opacity=\"1\" /><path clip-path=\"url(#clip430)\" d=\"M83.0984 542.475 L87.9827 542.475 L87.9827 548.355 L83.0984 548.355 L83.0984 542.475 Z\" fill=\"#000000\" fill-rule=\"nonzero\" fill-opacity=\"1\" /><path clip-path=\"url(#clip430)\" d=\"M108.168 516.874 Q104.557 516.874 102.728 520.438 Q100.922 523.98 100.922 531.11 Q100.922 538.216 102.728 541.781 Q104.557 545.323 108.168 545.323 Q111.802 545.323 113.608 541.781 Q115.436 538.216 115.436 531.11 Q115.436 523.98 113.608 520.438 Q111.802 516.874 108.168 516.874 M108.168 513.17 Q113.978 513.17 117.033 517.776 Q120.112 522.36 120.112 531.11 Q120.112 539.836 117.033 544.443 Q113.978 549.026 108.168 549.026 Q102.358 549.026 99.2789 544.443 Q96.2234 539.836 96.2234 531.11 Q96.2234 522.36 99.2789 517.776 Q102.358 513.17 108.168 513.17 Z\" fill=\"#000000\" fill-rule=\"nonzero\" fill-opacity=\"1\" /><path clip-path=\"url(#clip430)\" d=\"M138.33 516.874 Q134.719 516.874 132.89 520.438 Q131.084 523.98 131.084 531.11 Q131.084 538.216 132.89 541.781 Q134.719 545.323 138.33 545.323 Q141.964 545.323 143.769 541.781 Q145.598 538.216 145.598 531.11 Q145.598 523.98 143.769 520.438 Q141.964 516.874 138.33 516.874 M138.33 513.17 Q144.14 513.17 147.195 517.776 Q150.274 522.36 150.274 531.11 Q150.274 539.836 147.195 544.443 Q144.14 549.026 138.33 549.026 Q132.519 549.026 129.441 544.443 Q126.385 539.836 126.385 531.11 Q126.385 522.36 129.441 517.776 Q132.519 513.17 138.33 513.17 Z\" fill=\"#000000\" fill-rule=\"nonzero\" fill-opacity=\"1\" /><path clip-path=\"url(#clip430)\" d=\"M54.7421 260.032 L62.381 260.032 L62.381 233.666 L54.0708 235.333 L54.0708 231.074 L62.3347 229.407 L67.0106 229.407 L67.0106 260.032 L74.6494 260.032 L74.6494 263.967 L54.7421 263.967 L54.7421 260.032 Z\" fill=\"#000000\" fill-rule=\"nonzero\" fill-opacity=\"1\" /><path clip-path=\"url(#clip430)\" d=\"M84.0938 258.088 L88.978 258.088 L88.978 263.967 L84.0938 263.967 L84.0938 258.088 Z\" fill=\"#000000\" fill-rule=\"nonzero\" fill-opacity=\"1\" /><path clip-path=\"url(#clip430)\" d=\"M103.191 260.032 L119.51 260.032 L119.51 263.967 L97.566 263.967 L97.566 260.032 Q100.228 257.277 104.811 252.648 Q109.418 247.995 110.598 246.652 Q112.844 244.129 113.723 242.393 Q114.626 240.634 114.626 238.944 Q114.626 236.19 112.682 234.453 Q110.76 232.717 107.658 232.717 Q105.459 232.717 103.006 233.481 Q100.575 234.245 97.7974 235.796 L97.7974 231.074 Q100.621 229.94 103.075 229.361 Q105.529 228.782 107.566 228.782 Q112.936 228.782 116.131 231.467 Q119.325 234.152 119.325 238.643 Q119.325 240.773 118.515 242.694 Q117.728 244.592 115.621 247.185 Q115.043 247.856 111.941 251.074 Q108.839 254.268 103.191 260.032 Z\" fill=\"#000000\" fill-rule=\"nonzero\" fill-opacity=\"1\" /><path clip-path=\"url(#clip430)\" d=\"M129.371 229.407 L147.728 229.407 L147.728 233.342 L133.654 233.342 L133.654 241.814 Q134.672 241.467 135.691 241.305 Q136.709 241.12 137.728 241.12 Q143.515 241.12 146.894 244.291 Q150.274 247.463 150.274 252.879 Q150.274 258.458 146.802 261.56 Q143.33 264.638 137.01 264.638 Q134.834 264.638 132.566 264.268 Q130.32 263.898 127.913 263.157 L127.913 258.458 Q129.996 259.592 132.219 260.148 Q134.441 260.703 136.918 260.703 Q140.922 260.703 143.26 258.597 Q145.598 256.49 145.598 252.879 Q145.598 249.268 143.26 247.162 Q140.922 245.055 136.918 245.055 Q135.043 245.055 133.168 245.472 Q131.316 245.889 129.371 246.768 L129.371 229.407 Z\" fill=\"#000000\" fill-rule=\"nonzero\" fill-opacity=\"1\" /><polyline clip-path=\"url(#clip432)\" style=\"stroke:#009af9; stroke-linecap:round; stroke-linejoin:round; stroke-width:4; stroke-opacity:1; fill:none\" points=\"247.59,1384.24 656.36,1047.69 1065.13,726.891 1473.9,458.66 1882.67,247.361 2291.44,86.1857 \"/>\n",
       "<circle clip-path=\"url(#clip432)\" cx=\"247.59\" cy=\"1384.24\" r=\"14.4\" fill=\"#0000ff\" fill-rule=\"evenodd\" fill-opacity=\"0.7\" stroke=\"#000000\" stroke-opacity=\"0.7\" stroke-width=\"3.2\"/>\n",
       "<circle clip-path=\"url(#clip432)\" cx=\"656.36\" cy=\"1047.69\" r=\"14.4\" fill=\"#0000ff\" fill-rule=\"evenodd\" fill-opacity=\"0.7\" stroke=\"#000000\" stroke-opacity=\"0.7\" stroke-width=\"3.2\"/>\n",
       "<circle clip-path=\"url(#clip432)\" cx=\"1065.13\" cy=\"726.891\" r=\"14.4\" fill=\"#0000ff\" fill-rule=\"evenodd\" fill-opacity=\"0.7\" stroke=\"#000000\" stroke-opacity=\"0.7\" stroke-width=\"3.2\"/>\n",
       "<circle clip-path=\"url(#clip432)\" cx=\"1473.9\" cy=\"458.66\" r=\"14.4\" fill=\"#0000ff\" fill-rule=\"evenodd\" fill-opacity=\"0.7\" stroke=\"#000000\" stroke-opacity=\"0.7\" stroke-width=\"3.2\"/>\n",
       "<circle clip-path=\"url(#clip432)\" cx=\"1882.67\" cy=\"247.361\" r=\"14.4\" fill=\"#0000ff\" fill-rule=\"evenodd\" fill-opacity=\"0.7\" stroke=\"#000000\" stroke-opacity=\"0.7\" stroke-width=\"3.2\"/>\n",
       "<circle clip-path=\"url(#clip432)\" cx=\"2291.44\" cy=\"86.1857\" r=\"14.4\" fill=\"#0000ff\" fill-rule=\"evenodd\" fill-opacity=\"0.7\" stroke=\"#000000\" stroke-opacity=\"0.7\" stroke-width=\"3.2\"/>\n",
       "<path clip-path=\"url(#clip430)\" d=\"M258.49 196.789 L539.443 196.789 L539.443 93.1086 L258.49 93.1086  Z\" fill=\"#ffffff\" fill-rule=\"evenodd\" fill-opacity=\"1\"/>\n",
       "<polyline clip-path=\"url(#clip430)\" style=\"stroke:#000000; stroke-linecap:round; stroke-linejoin:round; stroke-width:4; stroke-opacity:1; fill:none\" points=\"258.49,196.789 539.443,196.789 539.443,93.1086 258.49,93.1086 258.49,196.789 \"/>\n",
       "<polyline clip-path=\"url(#clip430)\" style=\"stroke:#009af9; stroke-linecap:round; stroke-linejoin:round; stroke-width:4; stroke-opacity:1; fill:none\" points=\"282.562,144.949 426.994,144.949 \"/>\n",
       "<path clip-path=\"url(#clip430)\" d=\"M451.066 126.21 L455.349 126.21 L455.349 147.483 L468.057 136.303 L473.497 136.303 L459.747 148.432 L474.075 162.229 L468.52 162.229 L455.349 149.567 L455.349 162.229 L451.066 162.229 L451.066 126.21 Z\" fill=\"#000000\" fill-rule=\"nonzero\" fill-opacity=\"1\" /><path clip-path=\"url(#clip430)\" d=\"M498.381 170.099 L498.381 173.409 L473.751 173.409 L473.751 170.099 L498.381 170.099 Z\" fill=\"#000000\" fill-rule=\"nonzero\" fill-opacity=\"1\" /><path clip-path=\"url(#clip430)\" d=\"M506.598 128.942 L506.598 136.303 L515.371 136.303 L515.371 139.613 L506.598 139.613 L506.598 153.687 Q506.598 156.858 507.455 157.761 Q508.334 158.664 510.996 158.664 L515.371 158.664 L515.371 162.229 L510.996 162.229 Q506.066 162.229 504.191 160.4 Q502.316 158.548 502.316 153.687 L502.316 139.613 L499.191 139.613 L499.191 136.303 L502.316 136.303 L502.316 128.942 L506.598 128.942 Z\" fill=\"#000000\" fill-rule=\"nonzero\" fill-opacity=\"1\" /></svg>\n"
      ],
      "text/html": [
       "<?xml version=\"1.0\" encoding=\"utf-8\"?>\n",
       "<svg xmlns=\"http://www.w3.org/2000/svg\" xmlns:xlink=\"http://www.w3.org/1999/xlink\" width=\"600\" height=\"400\" viewBox=\"0 0 2400 1600\">\n",
       "<defs>\n",
       "  <clipPath id=\"clip480\">\n",
       "    <rect x=\"0\" y=\"0\" width=\"2400\" height=\"1600\"/>\n",
       "  </clipPath>\n",
       "</defs>\n",
       "<path clip-path=\"url(#clip480)\" d=\"M0 1600 L2400 1600 L2400 0 L0 0  Z\" fill=\"#ffffff\" fill-rule=\"evenodd\" fill-opacity=\"1\"/>\n",
       "<defs>\n",
       "  <clipPath id=\"clip481\">\n",
       "    <rect x=\"480\" y=\"0\" width=\"1681\" height=\"1600\"/>\n",
       "  </clipPath>\n",
       "</defs>\n",
       "<path clip-path=\"url(#clip480)\" d=\"M186.274 1423.18 L2352.76 1423.18 L2352.76 47.2441 L186.274 47.2441  Z\" fill=\"#ffffff\" fill-rule=\"evenodd\" fill-opacity=\"1\"/>\n",
       "<defs>\n",
       "  <clipPath id=\"clip482\">\n",
       "    <rect x=\"186\" y=\"47\" width=\"2167\" height=\"1377\"/>\n",
       "  </clipPath>\n",
       "</defs>\n",
       "<polyline clip-path=\"url(#clip482)\" style=\"stroke:#000000; stroke-linecap:round; stroke-linejoin:round; stroke-width:2; stroke-opacity:0.1; fill:none\" points=\"247.59,1423.18 247.59,47.2441 \"/>\n",
       "<polyline clip-path=\"url(#clip482)\" style=\"stroke:#000000; stroke-linecap:round; stroke-linejoin:round; stroke-width:2; stroke-opacity:0.1; fill:none\" points=\"656.36,1423.18 656.36,47.2441 \"/>\n",
       "<polyline clip-path=\"url(#clip482)\" style=\"stroke:#000000; stroke-linecap:round; stroke-linejoin:round; stroke-width:2; stroke-opacity:0.1; fill:none\" points=\"1065.13,1423.18 1065.13,47.2441 \"/>\n",
       "<polyline clip-path=\"url(#clip482)\" style=\"stroke:#000000; stroke-linecap:round; stroke-linejoin:round; stroke-width:2; stroke-opacity:0.1; fill:none\" points=\"1473.9,1423.18 1473.9,47.2441 \"/>\n",
       "<polyline clip-path=\"url(#clip482)\" style=\"stroke:#000000; stroke-linecap:round; stroke-linejoin:round; stroke-width:2; stroke-opacity:0.1; fill:none\" points=\"1882.67,1423.18 1882.67,47.2441 \"/>\n",
       "<polyline clip-path=\"url(#clip482)\" style=\"stroke:#000000; stroke-linecap:round; stroke-linejoin:round; stroke-width:2; stroke-opacity:0.1; fill:none\" points=\"2291.44,1423.18 2291.44,47.2441 \"/>\n",
       "<polyline clip-path=\"url(#clip480)\" style=\"stroke:#000000; stroke-linecap:round; stroke-linejoin:round; stroke-width:4; stroke-opacity:1; fill:none\" points=\"186.274,1423.18 2352.76,1423.18 \"/>\n",
       "<polyline clip-path=\"url(#clip480)\" style=\"stroke:#000000; stroke-linecap:round; stroke-linejoin:round; stroke-width:4; stroke-opacity:1; fill:none\" points=\"247.59,1423.18 247.59,1404.28 \"/>\n",
       "<polyline clip-path=\"url(#clip480)\" style=\"stroke:#000000; stroke-linecap:round; stroke-linejoin:round; stroke-width:4; stroke-opacity:1; fill:none\" points=\"656.36,1423.18 656.36,1404.28 \"/>\n",
       "<polyline clip-path=\"url(#clip480)\" style=\"stroke:#000000; stroke-linecap:round; stroke-linejoin:round; stroke-width:4; stroke-opacity:1; fill:none\" points=\"1065.13,1423.18 1065.13,1404.28 \"/>\n",
       "<polyline clip-path=\"url(#clip480)\" style=\"stroke:#000000; stroke-linecap:round; stroke-linejoin:round; stroke-width:4; stroke-opacity:1; fill:none\" points=\"1473.9,1423.18 1473.9,1404.28 \"/>\n",
       "<polyline clip-path=\"url(#clip480)\" style=\"stroke:#000000; stroke-linecap:round; stroke-linejoin:round; stroke-width:4; stroke-opacity:1; fill:none\" points=\"1882.67,1423.18 1882.67,1404.28 \"/>\n",
       "<polyline clip-path=\"url(#clip480)\" style=\"stroke:#000000; stroke-linecap:round; stroke-linejoin:round; stroke-width:4; stroke-opacity:1; fill:none\" points=\"2291.44,1423.18 2291.44,1404.28 \"/>\n",
       "<path clip-path=\"url(#clip480)\" d=\"M247.59 1454.1 Q243.978 1454.1 242.15 1457.66 Q240.344 1461.2 240.344 1468.33 Q240.344 1475.44 242.15 1479.01 Q243.978 1482.55 247.59 1482.55 Q251.224 1482.55 253.029 1479.01 Q254.858 1475.44 254.858 1468.33 Q254.858 1461.2 253.029 1457.66 Q251.224 1454.1 247.59 1454.1 M247.59 1450.39 Q253.4 1450.39 256.455 1455 Q259.534 1459.58 259.534 1468.33 Q259.534 1477.06 256.455 1481.67 Q253.4 1486.25 247.59 1486.25 Q241.779 1486.25 238.701 1481.67 Q235.645 1477.06 235.645 1468.33 Q235.645 1459.58 238.701 1455 Q241.779 1450.39 247.59 1450.39 Z\" fill=\"#000000\" fill-rule=\"nonzero\" fill-opacity=\"1\" /><path clip-path=\"url(#clip480)\" d=\"M646.742 1481.64 L654.381 1481.64 L654.381 1455.28 L646.07 1456.95 L646.07 1452.69 L654.334 1451.02 L659.01 1451.02 L659.01 1481.64 L666.649 1481.64 L666.649 1485.58 L646.742 1485.58 L646.742 1481.64 Z\" fill=\"#000000\" fill-rule=\"nonzero\" fill-opacity=\"1\" /><path clip-path=\"url(#clip480)\" d=\"M1059.78 1481.64 L1076.1 1481.64 L1076.1 1485.58 L1054.16 1485.58 L1054.16 1481.64 Q1056.82 1478.89 1061.4 1474.26 Q1066.01 1469.61 1067.19 1468.27 Q1069.44 1465.74 1070.32 1464.01 Q1071.22 1462.25 1071.22 1460.56 Q1071.22 1457.8 1069.27 1456.07 Q1067.35 1454.33 1064.25 1454.33 Q1062.05 1454.33 1059.6 1455.09 Q1057.17 1455.86 1054.39 1457.41 L1054.39 1452.69 Q1057.21 1451.55 1059.67 1450.97 Q1062.12 1450.39 1064.16 1450.39 Q1069.53 1450.39 1072.72 1453.08 Q1075.92 1455.77 1075.92 1460.26 Q1075.92 1462.39 1075.11 1464.31 Q1074.32 1466.2 1072.21 1468.8 Q1071.63 1469.47 1068.53 1472.69 Q1065.43 1475.88 1059.78 1481.64 Z\" fill=\"#000000\" fill-rule=\"nonzero\" fill-opacity=\"1\" /><path clip-path=\"url(#clip480)\" d=\"M1478.15 1466.95 Q1481.5 1467.66 1483.38 1469.93 Q1485.28 1472.2 1485.28 1475.53 Q1485.28 1480.65 1481.76 1483.45 Q1478.24 1486.25 1471.76 1486.25 Q1469.58 1486.25 1467.27 1485.81 Q1464.98 1485.39 1462.52 1484.54 L1462.52 1480.02 Q1464.47 1481.16 1466.78 1481.74 Q1469.1 1482.32 1471.62 1482.32 Q1476.02 1482.32 1478.31 1480.58 Q1480.62 1478.84 1480.62 1475.53 Q1480.62 1472.48 1478.47 1470.77 Q1476.34 1469.03 1472.52 1469.03 L1468.49 1469.03 L1468.49 1465.19 L1472.71 1465.19 Q1476.16 1465.19 1477.99 1463.82 Q1479.81 1462.43 1479.81 1459.84 Q1479.81 1457.18 1477.92 1455.77 Q1476.04 1454.33 1472.52 1454.33 Q1470.6 1454.33 1468.4 1454.75 Q1466.2 1455.16 1463.56 1456.04 L1463.56 1451.88 Q1466.23 1451.14 1468.54 1450.77 Q1470.88 1450.39 1472.94 1450.39 Q1478.26 1450.39 1481.37 1452.83 Q1484.47 1455.23 1484.47 1459.35 Q1484.47 1462.22 1482.82 1464.21 Q1481.18 1466.18 1478.15 1466.95 Z\" fill=\"#000000\" fill-rule=\"nonzero\" fill-opacity=\"1\" /><path clip-path=\"url(#clip480)\" d=\"M1885.68 1455.09 L1873.87 1473.54 L1885.68 1473.54 L1885.68 1455.09 M1884.45 1451.02 L1890.33 1451.02 L1890.33 1473.54 L1895.26 1473.54 L1895.26 1477.43 L1890.33 1477.43 L1890.33 1485.58 L1885.68 1485.58 L1885.68 1477.43 L1870.08 1477.43 L1870.08 1472.92 L1884.45 1451.02 Z\" fill=\"#000000\" fill-rule=\"nonzero\" fill-opacity=\"1\" /><path clip-path=\"url(#clip480)\" d=\"M2281.72 1451.02 L2300.07 1451.02 L2300.07 1454.96 L2286 1454.96 L2286 1463.43 Q2287.02 1463.08 2288.04 1462.92 Q2289.06 1462.73 2290.07 1462.73 Q2295.86 1462.73 2299.24 1465.9 Q2302.62 1469.08 2302.62 1474.49 Q2302.62 1480.07 2299.15 1483.17 Q2295.68 1486.25 2289.36 1486.25 Q2287.18 1486.25 2284.91 1485.88 Q2282.67 1485.51 2280.26 1484.77 L2280.26 1480.07 Q2282.34 1481.2 2284.57 1481.76 Q2286.79 1482.32 2289.26 1482.32 Q2293.27 1482.32 2295.61 1480.21 Q2297.94 1478.1 2297.94 1474.49 Q2297.94 1470.88 2295.61 1468.77 Q2293.27 1466.67 2289.26 1466.67 Q2287.39 1466.67 2285.51 1467.08 Q2283.66 1467.5 2281.72 1468.38 L2281.72 1451.02 Z\" fill=\"#000000\" fill-rule=\"nonzero\" fill-opacity=\"1\" /><path clip-path=\"url(#clip480)\" d=\"M1268.58 1522.27 L1268.58 1532.4 L1280.64 1532.4 L1280.64 1536.95 L1268.58 1536.95 L1268.58 1556.3 Q1268.58 1560.66 1269.75 1561.9 Q1270.96 1563.14 1274.62 1563.14 L1280.64 1563.14 L1280.64 1568.04 L1274.62 1568.04 Q1267.84 1568.04 1265.27 1565.53 Q1262.69 1562.98 1262.69 1556.3 L1262.69 1536.95 L1258.39 1536.95 L1258.39 1532.4 L1262.69 1532.4 L1262.69 1522.27 L1268.58 1522.27 Z\" fill=\"#000000\" fill-rule=\"nonzero\" fill-opacity=\"1\" /><polyline clip-path=\"url(#clip482)\" style=\"stroke:#000000; stroke-linecap:round; stroke-linejoin:round; stroke-width:2; stroke-opacity:0.1; fill:none\" points=\"186.274,1384.24 2352.76,1384.24 \"/>\n",
       "<polyline clip-path=\"url(#clip482)\" style=\"stroke:#000000; stroke-linecap:round; stroke-linejoin:round; stroke-width:2; stroke-opacity:0.1; fill:none\" points=\"186.274,1099.85 2352.76,1099.85 \"/>\n",
       "<polyline clip-path=\"url(#clip482)\" style=\"stroke:#000000; stroke-linecap:round; stroke-linejoin:round; stroke-width:2; stroke-opacity:0.1; fill:none\" points=\"186.274,815.463 2352.76,815.463 \"/>\n",
       "<polyline clip-path=\"url(#clip482)\" style=\"stroke:#000000; stroke-linecap:round; stroke-linejoin:round; stroke-width:2; stroke-opacity:0.1; fill:none\" points=\"186.274,531.075 2352.76,531.075 \"/>\n",
       "<polyline clip-path=\"url(#clip482)\" style=\"stroke:#000000; stroke-linecap:round; stroke-linejoin:round; stroke-width:2; stroke-opacity:0.1; fill:none\" points=\"186.274,246.687 2352.76,246.687 \"/>\n",
       "<polyline clip-path=\"url(#clip480)\" style=\"stroke:#000000; stroke-linecap:round; stroke-linejoin:round; stroke-width:4; stroke-opacity:1; fill:none\" points=\"186.274,1423.18 186.274,47.2441 \"/>\n",
       "<polyline clip-path=\"url(#clip480)\" style=\"stroke:#000000; stroke-linecap:round; stroke-linejoin:round; stroke-width:4; stroke-opacity:1; fill:none\" points=\"186.274,1384.24 205.172,1384.24 \"/>\n",
       "<polyline clip-path=\"url(#clip480)\" style=\"stroke:#000000; stroke-linecap:round; stroke-linejoin:round; stroke-width:4; stroke-opacity:1; fill:none\" points=\"186.274,1099.85 205.172,1099.85 \"/>\n",
       "<polyline clip-path=\"url(#clip480)\" style=\"stroke:#000000; stroke-linecap:round; stroke-linejoin:round; stroke-width:4; stroke-opacity:1; fill:none\" points=\"186.274,815.463 205.172,815.463 \"/>\n",
       "<polyline clip-path=\"url(#clip480)\" style=\"stroke:#000000; stroke-linecap:round; stroke-linejoin:round; stroke-width:4; stroke-opacity:1; fill:none\" points=\"186.274,531.075 205.172,531.075 \"/>\n",
       "<polyline clip-path=\"url(#clip480)\" style=\"stroke:#000000; stroke-linecap:round; stroke-linejoin:round; stroke-width:4; stroke-opacity:1; fill:none\" points=\"186.274,246.687 205.172,246.687 \"/>\n",
       "<path clip-path=\"url(#clip480)\" d=\"M63.9319 1370.04 Q60.3208 1370.04 58.4921 1373.6 Q56.6865 1377.14 56.6865 1384.27 Q56.6865 1391.38 58.4921 1394.94 Q60.3208 1398.49 63.9319 1398.49 Q67.5661 1398.49 69.3717 1394.94 Q71.2004 1391.38 71.2004 1384.27 Q71.2004 1377.14 69.3717 1373.6 Q67.5661 1370.04 63.9319 1370.04 M63.9319 1366.33 Q69.742 1366.33 72.7976 1370.94 Q75.8763 1375.52 75.8763 1384.27 Q75.8763 1393 72.7976 1397.61 Q69.742 1402.19 63.9319 1402.19 Q58.1217 1402.19 55.043 1397.61 Q51.9875 1393 51.9875 1384.27 Q51.9875 1375.52 55.043 1370.94 Q58.1217 1366.33 63.9319 1366.33 Z\" fill=\"#000000\" fill-rule=\"nonzero\" fill-opacity=\"1\" /><path clip-path=\"url(#clip480)\" d=\"M84.0938 1395.64 L88.978 1395.64 L88.978 1401.52 L84.0938 1401.52 L84.0938 1395.64 Z\" fill=\"#000000\" fill-rule=\"nonzero\" fill-opacity=\"1\" /><path clip-path=\"url(#clip480)\" d=\"M103.191 1397.58 L119.51 1397.58 L119.51 1401.52 L97.566 1401.52 L97.566 1397.58 Q100.228 1394.83 104.811 1390.2 Q109.418 1385.55 110.598 1384.2 Q112.844 1381.68 113.723 1379.94 Q114.626 1378.19 114.626 1376.5 Q114.626 1373.74 112.682 1372 Q110.76 1370.27 107.658 1370.27 Q105.459 1370.27 103.006 1371.03 Q100.575 1371.8 97.7974 1373.35 L97.7974 1368.62 Q100.621 1367.49 103.075 1366.91 Q105.529 1366.33 107.566 1366.33 Q112.936 1366.33 116.131 1369.02 Q119.325 1371.7 119.325 1376.19 Q119.325 1378.32 118.515 1380.25 Q117.728 1382.14 115.621 1384.74 Q115.043 1385.41 111.941 1388.62 Q108.839 1391.82 103.191 1397.58 Z\" fill=\"#000000\" fill-rule=\"nonzero\" fill-opacity=\"1\" /><path clip-path=\"url(#clip480)\" d=\"M129.371 1366.96 L147.728 1366.96 L147.728 1370.89 L133.654 1370.89 L133.654 1379.37 Q134.672 1379.02 135.691 1378.86 Q136.709 1378.67 137.728 1378.67 Q143.515 1378.67 146.894 1381.84 Q150.274 1385.01 150.274 1390.43 Q150.274 1396.01 146.802 1399.11 Q143.33 1402.19 137.01 1402.19 Q134.834 1402.19 132.566 1401.82 Q130.32 1401.45 127.913 1400.71 L127.913 1396.01 Q129.996 1397.14 132.219 1397.7 Q134.441 1398.25 136.918 1398.25 Q140.922 1398.25 143.26 1396.15 Q145.598 1394.04 145.598 1390.43 Q145.598 1386.82 143.26 1384.71 Q140.922 1382.61 136.918 1382.61 Q135.043 1382.61 133.168 1383.02 Q131.316 1383.44 129.371 1384.32 L129.371 1366.96 Z\" fill=\"#000000\" fill-rule=\"nonzero\" fill-opacity=\"1\" /><path clip-path=\"url(#clip480)\" d=\"M62.9365 1085.65 Q59.3254 1085.65 57.4967 1089.21 Q55.6912 1092.76 55.6912 1099.89 Q55.6912 1106.99 57.4967 1110.56 Q59.3254 1114.1 62.9365 1114.1 Q66.5707 1114.1 68.3763 1110.56 Q70.205 1106.99 70.205 1099.89 Q70.205 1092.76 68.3763 1089.21 Q66.5707 1085.65 62.9365 1085.65 M62.9365 1081.95 Q68.7467 1081.95 71.8022 1086.55 Q74.8809 1091.14 74.8809 1099.89 Q74.8809 1108.61 71.8022 1113.22 Q68.7467 1117.8 62.9365 1117.8 Q57.1264 1117.8 54.0477 1113.22 Q50.9921 1108.61 50.9921 1099.89 Q50.9921 1091.14 54.0477 1086.55 Q57.1264 1081.95 62.9365 1081.95 Z\" fill=\"#000000\" fill-rule=\"nonzero\" fill-opacity=\"1\" /><path clip-path=\"url(#clip480)\" d=\"M83.0984 1111.25 L87.9827 1111.25 L87.9827 1117.13 L83.0984 1117.13 L83.0984 1111.25 Z\" fill=\"#000000\" fill-rule=\"nonzero\" fill-opacity=\"1\" /><path clip-path=\"url(#clip480)\" d=\"M98.2141 1082.57 L116.57 1082.57 L116.57 1086.51 L102.496 1086.51 L102.496 1094.98 Q103.515 1094.63 104.534 1094.47 Q105.552 1094.28 106.571 1094.28 Q112.358 1094.28 115.737 1097.45 Q119.117 1100.63 119.117 1106.04 Q119.117 1111.62 115.645 1114.72 Q112.172 1117.8 105.853 1117.8 Q103.677 1117.8 101.409 1117.43 Q99.1632 1117.06 96.7558 1116.32 L96.7558 1111.62 Q98.8391 1112.76 101.061 1113.31 Q103.284 1113.87 105.76 1113.87 Q109.765 1113.87 112.103 1111.76 Q114.441 1109.65 114.441 1106.04 Q114.441 1102.43 112.103 1100.33 Q109.765 1098.22 105.76 1098.22 Q103.885 1098.22 102.01 1098.64 Q100.159 1099.05 98.2141 1099.93 L98.2141 1082.57 Z\" fill=\"#000000\" fill-rule=\"nonzero\" fill-opacity=\"1\" /><path clip-path=\"url(#clip480)\" d=\"M138.33 1085.65 Q134.719 1085.65 132.89 1089.21 Q131.084 1092.76 131.084 1099.89 Q131.084 1106.99 132.89 1110.56 Q134.719 1114.1 138.33 1114.1 Q141.964 1114.1 143.769 1110.56 Q145.598 1106.99 145.598 1099.89 Q145.598 1092.76 143.769 1089.21 Q141.964 1085.65 138.33 1085.65 M138.33 1081.95 Q144.14 1081.95 147.195 1086.55 Q150.274 1091.14 150.274 1099.89 Q150.274 1108.61 147.195 1113.22 Q144.14 1117.8 138.33 1117.8 Q132.519 1117.8 129.441 1113.22 Q126.385 1108.61 126.385 1099.89 Q126.385 1091.14 129.441 1086.55 Q132.519 1081.95 138.33 1081.95 Z\" fill=\"#000000\" fill-rule=\"nonzero\" fill-opacity=\"1\" /><path clip-path=\"url(#clip480)\" d=\"M63.9319 801.261 Q60.3208 801.261 58.4921 804.826 Q56.6865 808.368 56.6865 815.497 Q56.6865 822.604 58.4921 826.169 Q60.3208 829.71 63.9319 829.71 Q67.5661 829.71 69.3717 826.169 Q71.2004 822.604 71.2004 815.497 Q71.2004 808.368 69.3717 804.826 Q67.5661 801.261 63.9319 801.261 M63.9319 797.558 Q69.742 797.558 72.7976 802.164 Q75.8763 806.747 75.8763 815.497 Q75.8763 824.224 72.7976 828.831 Q69.742 833.414 63.9319 833.414 Q58.1217 833.414 55.043 828.831 Q51.9875 824.224 51.9875 815.497 Q51.9875 806.747 55.043 802.164 Q58.1217 797.558 63.9319 797.558 Z\" fill=\"#000000\" fill-rule=\"nonzero\" fill-opacity=\"1\" /><path clip-path=\"url(#clip480)\" d=\"M84.0938 826.863 L88.978 826.863 L88.978 832.743 L84.0938 832.743 L84.0938 826.863 Z\" fill=\"#000000\" fill-rule=\"nonzero\" fill-opacity=\"1\" /><path clip-path=\"url(#clip480)\" d=\"M97.9826 798.183 L120.205 798.183 L120.205 800.173 L107.658 832.743 L102.774 832.743 L114.58 802.118 L97.9826 802.118 L97.9826 798.183 Z\" fill=\"#000000\" fill-rule=\"nonzero\" fill-opacity=\"1\" /><path clip-path=\"url(#clip480)\" d=\"M129.371 798.183 L147.728 798.183 L147.728 802.118 L133.654 802.118 L133.654 810.59 Q134.672 810.243 135.691 810.081 Q136.709 809.896 137.728 809.896 Q143.515 809.896 146.894 813.067 Q150.274 816.238 150.274 821.655 Q150.274 827.233 146.802 830.335 Q143.33 833.414 137.01 833.414 Q134.834 833.414 132.566 833.044 Q130.32 832.673 127.913 831.933 L127.913 827.233 Q129.996 828.368 132.219 828.923 Q134.441 829.479 136.918 829.479 Q140.922 829.479 143.26 827.372 Q145.598 825.266 145.598 821.655 Q145.598 818.044 143.26 815.937 Q140.922 813.831 136.918 813.831 Q135.043 813.831 133.168 814.247 Q131.316 814.664 129.371 815.544 L129.371 798.183 Z\" fill=\"#000000\" fill-rule=\"nonzero\" fill-opacity=\"1\" /><path clip-path=\"url(#clip480)\" d=\"M53.7467 544.42 L61.3856 544.42 L61.3856 518.054 L53.0754 519.721 L53.0754 515.462 L61.3393 513.795 L66.0152 513.795 L66.0152 544.42 L73.654 544.42 L73.654 548.355 L53.7467 548.355 L53.7467 544.42 Z\" fill=\"#000000\" fill-rule=\"nonzero\" fill-opacity=\"1\" /><path clip-path=\"url(#clip480)\" d=\"M83.0984 542.475 L87.9827 542.475 L87.9827 548.355 L83.0984 548.355 L83.0984 542.475 Z\" fill=\"#000000\" fill-rule=\"nonzero\" fill-opacity=\"1\" /><path clip-path=\"url(#clip480)\" d=\"M108.168 516.874 Q104.557 516.874 102.728 520.438 Q100.922 523.98 100.922 531.11 Q100.922 538.216 102.728 541.781 Q104.557 545.323 108.168 545.323 Q111.802 545.323 113.608 541.781 Q115.436 538.216 115.436 531.11 Q115.436 523.98 113.608 520.438 Q111.802 516.874 108.168 516.874 M108.168 513.17 Q113.978 513.17 117.033 517.776 Q120.112 522.36 120.112 531.11 Q120.112 539.836 117.033 544.443 Q113.978 549.026 108.168 549.026 Q102.358 549.026 99.2789 544.443 Q96.2234 539.836 96.2234 531.11 Q96.2234 522.36 99.2789 517.776 Q102.358 513.17 108.168 513.17 Z\" fill=\"#000000\" fill-rule=\"nonzero\" fill-opacity=\"1\" /><path clip-path=\"url(#clip480)\" d=\"M138.33 516.874 Q134.719 516.874 132.89 520.438 Q131.084 523.98 131.084 531.11 Q131.084 538.216 132.89 541.781 Q134.719 545.323 138.33 545.323 Q141.964 545.323 143.769 541.781 Q145.598 538.216 145.598 531.11 Q145.598 523.98 143.769 520.438 Q141.964 516.874 138.33 516.874 M138.33 513.17 Q144.14 513.17 147.195 517.776 Q150.274 522.36 150.274 531.11 Q150.274 539.836 147.195 544.443 Q144.14 549.026 138.33 549.026 Q132.519 549.026 129.441 544.443 Q126.385 539.836 126.385 531.11 Q126.385 522.36 129.441 517.776 Q132.519 513.17 138.33 513.17 Z\" fill=\"#000000\" fill-rule=\"nonzero\" fill-opacity=\"1\" /><path clip-path=\"url(#clip480)\" d=\"M54.7421 260.032 L62.381 260.032 L62.381 233.666 L54.0708 235.333 L54.0708 231.074 L62.3347 229.407 L67.0106 229.407 L67.0106 260.032 L74.6494 260.032 L74.6494 263.967 L54.7421 263.967 L54.7421 260.032 Z\" fill=\"#000000\" fill-rule=\"nonzero\" fill-opacity=\"1\" /><path clip-path=\"url(#clip480)\" d=\"M84.0938 258.088 L88.978 258.088 L88.978 263.967 L84.0938 263.967 L84.0938 258.088 Z\" fill=\"#000000\" fill-rule=\"nonzero\" fill-opacity=\"1\" /><path clip-path=\"url(#clip480)\" d=\"M103.191 260.032 L119.51 260.032 L119.51 263.967 L97.566 263.967 L97.566 260.032 Q100.228 257.277 104.811 252.648 Q109.418 247.995 110.598 246.652 Q112.844 244.129 113.723 242.393 Q114.626 240.634 114.626 238.944 Q114.626 236.19 112.682 234.453 Q110.76 232.717 107.658 232.717 Q105.459 232.717 103.006 233.481 Q100.575 234.245 97.7974 235.796 L97.7974 231.074 Q100.621 229.94 103.075 229.361 Q105.529 228.782 107.566 228.782 Q112.936 228.782 116.131 231.467 Q119.325 234.152 119.325 238.643 Q119.325 240.773 118.515 242.694 Q117.728 244.592 115.621 247.185 Q115.043 247.856 111.941 251.074 Q108.839 254.268 103.191 260.032 Z\" fill=\"#000000\" fill-rule=\"nonzero\" fill-opacity=\"1\" /><path clip-path=\"url(#clip480)\" d=\"M129.371 229.407 L147.728 229.407 L147.728 233.342 L133.654 233.342 L133.654 241.814 Q134.672 241.467 135.691 241.305 Q136.709 241.12 137.728 241.12 Q143.515 241.12 146.894 244.291 Q150.274 247.463 150.274 252.879 Q150.274 258.458 146.802 261.56 Q143.33 264.638 137.01 264.638 Q134.834 264.638 132.566 264.268 Q130.32 263.898 127.913 263.157 L127.913 258.458 Q129.996 259.592 132.219 260.148 Q134.441 260.703 136.918 260.703 Q140.922 260.703 143.26 258.597 Q145.598 256.49 145.598 252.879 Q145.598 249.268 143.26 247.162 Q140.922 245.055 136.918 245.055 Q135.043 245.055 133.168 245.472 Q131.316 245.889 129.371 246.768 L129.371 229.407 Z\" fill=\"#000000\" fill-rule=\"nonzero\" fill-opacity=\"1\" /><polyline clip-path=\"url(#clip482)\" style=\"stroke:#009af9; stroke-linecap:round; stroke-linejoin:round; stroke-width:4; stroke-opacity:1; fill:none\" points=\"247.59,1384.24 656.36,1047.69 1065.13,726.891 1473.9,458.66 1882.67,247.361 2291.44,86.1857 \"/>\n",
       "<circle clip-path=\"url(#clip482)\" cx=\"247.59\" cy=\"1384.24\" r=\"14.4\" fill=\"#0000ff\" fill-rule=\"evenodd\" fill-opacity=\"0.7\" stroke=\"#000000\" stroke-opacity=\"0.7\" stroke-width=\"3.2\"/>\n",
       "<circle clip-path=\"url(#clip482)\" cx=\"656.36\" cy=\"1047.69\" r=\"14.4\" fill=\"#0000ff\" fill-rule=\"evenodd\" fill-opacity=\"0.7\" stroke=\"#000000\" stroke-opacity=\"0.7\" stroke-width=\"3.2\"/>\n",
       "<circle clip-path=\"url(#clip482)\" cx=\"1065.13\" cy=\"726.891\" r=\"14.4\" fill=\"#0000ff\" fill-rule=\"evenodd\" fill-opacity=\"0.7\" stroke=\"#000000\" stroke-opacity=\"0.7\" stroke-width=\"3.2\"/>\n",
       "<circle clip-path=\"url(#clip482)\" cx=\"1473.9\" cy=\"458.66\" r=\"14.4\" fill=\"#0000ff\" fill-rule=\"evenodd\" fill-opacity=\"0.7\" stroke=\"#000000\" stroke-opacity=\"0.7\" stroke-width=\"3.2\"/>\n",
       "<circle clip-path=\"url(#clip482)\" cx=\"1882.67\" cy=\"247.361\" r=\"14.4\" fill=\"#0000ff\" fill-rule=\"evenodd\" fill-opacity=\"0.7\" stroke=\"#000000\" stroke-opacity=\"0.7\" stroke-width=\"3.2\"/>\n",
       "<circle clip-path=\"url(#clip482)\" cx=\"2291.44\" cy=\"86.1857\" r=\"14.4\" fill=\"#0000ff\" fill-rule=\"evenodd\" fill-opacity=\"0.7\" stroke=\"#000000\" stroke-opacity=\"0.7\" stroke-width=\"3.2\"/>\n",
       "<path clip-path=\"url(#clip480)\" d=\"M258.49 196.789 L539.443 196.789 L539.443 93.1086 L258.49 93.1086  Z\" fill=\"#ffffff\" fill-rule=\"evenodd\" fill-opacity=\"1\"/>\n",
       "<polyline clip-path=\"url(#clip480)\" style=\"stroke:#000000; stroke-linecap:round; stroke-linejoin:round; stroke-width:4; stroke-opacity:1; fill:none\" points=\"258.49,196.789 539.443,196.789 539.443,93.1086 258.49,93.1086 258.49,196.789 \"/>\n",
       "<polyline clip-path=\"url(#clip480)\" style=\"stroke:#009af9; stroke-linecap:round; stroke-linejoin:round; stroke-width:4; stroke-opacity:1; fill:none\" points=\"282.562,144.949 426.994,144.949 \"/>\n",
       "<path clip-path=\"url(#clip480)\" d=\"M451.066 126.21 L455.349 126.21 L455.349 147.483 L468.057 136.303 L473.497 136.303 L459.747 148.432 L474.075 162.229 L468.52 162.229 L455.349 149.567 L455.349 162.229 L451.066 162.229 L451.066 126.21 Z\" fill=\"#000000\" fill-rule=\"nonzero\" fill-opacity=\"1\" /><path clip-path=\"url(#clip480)\" d=\"M498.381 170.099 L498.381 173.409 L473.751 173.409 L473.751 170.099 L498.381 170.099 Z\" fill=\"#000000\" fill-rule=\"nonzero\" fill-opacity=\"1\" /><path clip-path=\"url(#clip480)\" d=\"M506.598 128.942 L506.598 136.303 L515.371 136.303 L515.371 139.613 L506.598 139.613 L506.598 153.687 Q506.598 156.858 507.455 157.761 Q508.334 158.664 510.996 158.664 L515.371 158.664 L515.371 162.229 L510.996 162.229 Q506.066 162.229 504.191 160.4 Q502.316 158.548 502.316 153.687 L502.316 139.613 L499.191 139.613 L499.191 136.303 L502.316 136.303 L502.316 128.942 L506.598 128.942 Z\" fill=\"#000000\" fill-rule=\"nonzero\" fill-opacity=\"1\" /></svg>\n"
      ]
     },
     "execution_count": 3,
     "metadata": {},
     "output_type": "execute_result"
    }
   ],
   "source": [
    "using Plots\n",
    "# Iterates a function from an initial condition \n",
    "function iterate_map(f, x0, T)\n",
    "    x = zeros(T + 1)\n",
    "    x[1] = x0\n",
    "    for t in 2:(T + 1)\n",
    "        x[t] = f(x[t - 1])\n",
    "    end\n",
    "    return x\n",
    "end\n",
    "\n",
    "function ts_plot(f, x0, T; xlabel = \"t\", label = \"k_t\")\n",
    "    x = iterate_map(f, x0, T)\n",
    "    plot(0:T, x; xlabel, label)\n",
    "    plot!(0:T, x; seriestype = :scatter, mc = :blue, alpha = 0.7, label = nothing)\n",
    "end\n",
    "\n",
    "\n",
    "p = (A = 2, s = 0.3, alpha = 0.3, delta = 0.4, xmin = 0, xmax = 4)\n",
    "g(k; p) = p.A * p.s * k^p.alpha + (1 - p.delta) * k\n",
    "k0 = 0.25\n",
    "ts_plot(k -> g(k; p), k0, 5)"
   ]
  },
  {
   "cell_type": "markdown",
   "metadata": {},
   "source": [
    "## Conditionals\n",
    "Conditional evaluation allows portions of code to be evaluated or not evaluated depending on the value of a boolean expression. Here is the anatomy of the if-elseif-else conditional syntax:"
   ]
  },
  {
   "cell_type": "code",
   "execution_count": null,
   "metadata": {},
   "outputs": [],
   "source": [
    "if x < y\n",
    "    println(\"x is less than y\")\n",
    "elseif x > y\n",
    "    println(\"x is greater than y\")\n",
    "else\n",
    "    println(\"x is equal to y\")\n",
    "end"
   ]
  },
  {
   "cell_type": "markdown",
   "metadata": {},
   "source": [
    "Consider the equation $v = p+\\beta v$ where $p,\\beta$ are given, and $v$ is a scalar to solve. \n",
    "\n",
    "*This simple example can be solve like* $v=p/(1-\\beta)$. \n",
    "\n",
    "However, we are going to try $v=f(v):=p+\\beta v$ \n",
    "\n",
    "### While loops"
   ]
  },
  {
   "cell_type": "code",
   "execution_count": null,
   "metadata": {},
   "outputs": [
    {
     "name": "stdout",
     "output_type": "stream",
     "text": [
      "Fixed point = 9.999999173706609\n",
      "  |f(x) - x| = 9.181037796679448e-8 in 155 iterations\n"
     ]
    },
    {
     "name": "stderr",
     "output_type": "stream",
     "text": [
      "WARNING: using LinearAlgebra.rotate! in module Main conflicts with an existing identifier.\n"
     ]
    }
   ],
   "source": [
    "using LinearAlgebra\n",
    "# poor style\n",
    "p = 1.0 \n",
    "beta = 0.9\n",
    "maxiter = 1000\n",
    "tolerance = 1.0E-7\n",
    "v_iv = 0.8 # initial condition\n",
    "\n",
    "# setup the algorithm\n",
    "v_old = v_iv\n",
    "normdiff = Inf\n",
    "iter = 1\n",
    "while normdiff > tolerance && iter <= maxiter\n",
    "    v_new = p + beta * v_old # the f(v) map\n",
    "    normdiff = norm(v_new - v_old)\n",
    "\n",
    "    # replace and continue\n",
    "    v_old = v_new\n",
    "    iter = iter + 1\n",
    "end\n",
    "println(\"Fixed point = $v_old\n",
    "  |f(x) - x| = $normdiff in $iter iterations\")"
   ]
  },
  {
   "cell_type": "markdown",
   "metadata": {},
   "source": [
    "### For and if"
   ]
  },
  {
   "cell_type": "code",
   "execution_count": null,
   "metadata": {},
   "outputs": [
    {
     "name": "stdout",
     "output_type": "stream",
     "text": [
      "Fixed point = 9.999999081896231\n",
      "  |f(x) - x| = 9.181037796679448e-8 in 154 iterations\n"
     ]
    }
   ],
   "source": [
    "# setup the algorithm\n",
    "v_old = v_iv\n",
    "normdiff = Inf\n",
    "iter = 1\n",
    "for i in 1:maxiter\n",
    "    v_new = p + beta * v_old # the f(v) map\n",
    "    normdiff = norm(v_new - v_old)\n",
    "    if normdiff < tolerance # check convergence\n",
    "        iter = i\n",
    "        break # converged, exit loop\n",
    "    end\n",
    "    # replace and continue\n",
    "    v_old = v_new\n",
    "end\n",
    "println(\"Fixed point = $v_old\n",
    "  |f(x) - x| = $normdiff in $iter iterations\")"
   ]
  },
  {
   "cell_type": "markdown",
   "metadata": {},
   "source": [
    "## Excercises\n",
    "1. Put the examples in functions, test the performance. \n",
    "2. Check if the functions have the same result and are the same that analytical solution $v=p/(1-\\beta)$"
   ]
  },
  {
   "cell_type": "markdown",
   "metadata": {},
   "source": [
    "## Numerical methods\n",
    "One of the most basic numerical problems encountered in computational economics is to find the solution to a nonlinear equation or a whole system of nonlinear equations. A nonlinear equation system usually can be defined by a function\n",
    "\n",
    "$$f(x):R^n\\rightarrow R^n$$\n",
    "\n",
    "that maps an $n$ dimensional vector $x$ into the space $R^n$. We call the solution to the linear equation system $f (x) = 0$ a root of $f$ . The root of a nonlinear equation system usually has no closed-form solution. Consequently, various numerical methods addressing the issue of root-finding have been invented.\n",
    "\n",
    "In Julia, we find several packages for this purpose, some of them are NSolve, Optim, Optimization, ForwardDiff, Roots, among others.\n",
    "\n",
    "\n"
   ]
  },
  {
   "cell_type": "markdown",
   "metadata": {},
   "source": [
    "### Solving non-linear systems\n",
    "Example: \n",
    "\n",
    "$$x^2 + 2y^2 = 1 $$\n",
    "$$2x^2 + y^2 = 1 $$"
   ]
  },
  {
   "cell_type": "code",
   "execution_count": null,
   "metadata": {},
   "outputs": [],
   "source": [
    "using NLsolve\n",
    "\n",
    "function f!(F, x)\n",
    "    F[1] = x[1]^2 + 2x[2]^2 - 1\n",
    "    F[2] = 2x[1]^2 + x[2]^2 - 1\n",
    "end\n",
    "\n",
    "x = nlsolve(f!, [ 0.1; 1.2], autodiff = :forward)\n",
    "print(x.zero)"
   ]
  },
  {
   "cell_type": "markdown",
   "metadata": {},
   "source": [
    "### Nonlinear Optimization\n",
    "Example: Rosenbrock function\n",
    "\n",
    "$f(x,y)=(a-x)^2 + b(y-x^2)^2$"
   ]
  },
  {
   "cell_type": "code",
   "execution_count": null,
   "metadata": {},
   "outputs": [
    {
     "data": {
      "text/plain": [
       " * Status: success\n",
       "\n",
       " * Candidate solution\n",
       "    Final objective value:     3.525527e-09\n",
       "\n",
       " * Found with\n",
       "    Algorithm:     Nelder-Mead\n",
       "\n",
       " * Convergence measures\n",
       "    √(Σ(yᵢ-ȳ)²)/n ≤ 1.0e-08\n",
       "\n",
       " * Work counters\n",
       "    Seconds run:   0  (vs limit Inf)\n",
       "    Iterations:    60\n",
       "    f(x) calls:    117\n"
      ]
     },
     "execution_count": 62,
     "metadata": {},
     "output_type": "execute_result"
    }
   ],
   "source": [
    "using Optim\n",
    "\n",
    "f(x) = (1.0 - x[1])^2 + 100.0 * (x[2] - x[1]^2)^2\n",
    "x_iv = [0.0, 0.0]\n",
    "results = optimize(f, x_iv) # i.e. optimize(f, x_iv, NelderMead())"
   ]
  },
  {
   "cell_type": "code",
   "execution_count": null,
   "metadata": {},
   "outputs": [
    {
     "data": {
      "text/plain": [
       "retcode: Success\n",
       "u: 2-element Vector{Float64}:\n",
       " 0.9999634355313174\n",
       " 0.9999315506115275"
      ]
     },
     "execution_count": 63,
     "metadata": {},
     "output_type": "execute_result"
    }
   ],
   "source": [
    "using Optimization, OptimizationOptimJL\n",
    "\n",
    "rosenbrock(u,p) =  (p[1] - u[1])^2 + p[2] * (u[2] - u[1]^2)^2\n",
    "u0 = zeros(2)\n",
    "p  = [1.0,100.0]\n",
    "\n",
    "prob = OptimizationProblem(rosenbrock,u0,p)\n",
    "sol = solve(prob,NelderMead())"
   ]
  },
  {
   "cell_type": "markdown",
   "metadata": {},
   "source": [
    "## Exercises\n",
    "1. Compare the results of the three methods\n",
    "2. Plot the 3D plane of f(x,y),x,y. \n",
    "3. Add to the plot the solution of the 3 methods. \n",
    "4. Solve the following problem using someone of the non-linear techniques. \n",
    "\n",
    "Two firms compete in a simple Cournot duopoly with the inverse demand and the cost functions \n",
    "\n",
    "$$P(q) = q^{-1/\\eta} $$\n",
    "$$C_k(q_k) = \\frac{c_k}{2} q_k^2 \\quad \\text{for firm } k = 1, 2 $$\n",
    "$$q = q_1 + q_2$$\n",
    "\n",
    "\n",
    "\n",
    "Given the profit functions of the two firms\n",
    "\n",
    "$$\\pi_k(q_1, q_2) = P(q_1 + q_2)q_k - C_k(q_k)$$\n",
    "\n",
    "each firm $k$ takes the other firm’s output as given and chooses its own output level in order to solve\n",
    "\n",
    "$$\\frac{\\partial \\pi_k}{\\partial q_k} = f(q) = \\left(q_1 + q_2\\right)^{-1/\\eta} - \\frac{1}{\\eta} \\left(q_1 + q_2\\right)^{-1/\\eta -1}q_k - c_kq_k = 0 \\quad \\text{with } k = 1, 2.$$\n"
   ]
  },
  {
   "cell_type": "markdown",
   "metadata": {},
   "source": []
  }
 ],
 "metadata": {
  "kernelspec": {
   "display_name": "Julia 1.10 1.10.0",
   "language": "julia",
   "name": "julia-1.10-1.10"
  },
  "language_info": {
   "file_extension": ".jl",
   "mimetype": "application/julia",
   "name": "julia",
   "version": "1.10.0"
  }
 },
 "nbformat": 4,
 "nbformat_minor": 2
}