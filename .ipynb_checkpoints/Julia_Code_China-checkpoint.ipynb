{
 "cells": [
  {
   "cell_type": "code",
   "execution_count": 3,
   "id": "25f5ef37-86ba-41d4-867c-4eed593ac36e",
   "metadata": {},
   "outputs": [
    {
     "name": "stdout",
     "output_type": "stream",
     "text": [
      "/Users/graciela/Library/CloudStorage/Dropbox/China/Rod_codes/Codes/VintageModelChina/matlab/paper\n"
     ]
    }
   ],
   "source": [
    "println(pwd())"
   ]
  },
  {
   "cell_type": "code",
   "execution_count": null,
   "id": "467d35d9-4c9e-4f58-80b9-27ca1bf2dfa6",
   "metadata": {},
   "outputs": [],
   "source": []
  }
 ],
 "metadata": {
  "kernelspec": {
   "display_name": "Julia 1.7.2",
   "language": "julia",
   "name": "julia-1.7"
  },
  "language_info": {
   "file_extension": ".jl",
   "mimetype": "application/julia",
   "name": "julia",
   "version": "1.7.2"
  }
 },
 "nbformat": 4,
 "nbformat_minor": 5
}
