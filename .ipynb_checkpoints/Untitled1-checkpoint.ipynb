{
 "cells": [
  {
   "cell_type": "code",
   "execution_count": 1,
   "id": "aa8645ba-5eb7-4d16-a1d8-04b4bfccf6b6",
   "metadata": {},
   "outputs": [
    {
     "name": "stdout",
     "output_type": "stream",
     "text": [
      "/Users/graciela/Library/CloudStorage/Dropbox/MacroRecursive/NumMethods/Lectures/ComputationalEconomicsJulia\n"
     ]
    }
   ],
   "source": [
    "\n",
    "println(pwd())\n"
   ]
  },
  {
   "cell_type": "code",
   "execution_count": 3,
   "id": "175bf8b7-56cc-4f74-af01-3cfb5fdb3d31",
   "metadata": {},
   "outputs": [
    {
     "name": "stdout",
     "output_type": "stream",
     "text": [
      "/Users/graciela/Library/CloudStorage/Dropbox/China/Rod_codes/Codes/VintageModelChina/matlab/paper/Julia\n"
     ]
    }
   ],
   "source": [
    "cd(\"/Users/graciela/Library/CloudStorage/Dropbox/China/Rod_codes/Codes/VintageModelChina/matlab/paper/Julia\")\n",
    "println(pwd())\n"
   ]
  },
  {
   "cell_type": "code",
   "execution_count": null,
   "id": "0c125dc2-e924-40a2-80a2-c8d7055a86a3",
   "metadata": {},
   "outputs": [],
   "source": []
  }
 ],
 "metadata": {
  "kernelspec": {
   "display_name": "Julia 1.7.2",
   "language": "julia",
   "name": "julia-1.7"
  },
  "language_info": {
   "file_extension": ".jl",
   "mimetype": "application/julia",
   "name": "julia",
   "version": "1.7.2"
  }
 },
 "nbformat": 4,
 "nbformat_minor": 5
}
