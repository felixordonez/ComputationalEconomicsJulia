{
 "cells": [
  {
   "cell_type": "code",
   "execution_count": 1,
   "id": "6ed6c0d8-7608-45b2-ba63-9c958372fff4",
   "metadata": {},
   "outputs": [],
   "source": [
    "using LinearAlgebra\n",
    "using Optim\n",
    "using Printf\n",
    "using MAT\n",
    "using Statistics  # Import the Statistics module for mean function"
   ]
  },
  {
   "cell_type": "code",
   "execution_count": 2,
   "id": "41f989ba-97af-49ca-9500-a7e5e726f486",
   "metadata": {},
   "outputs": [
    {
     "name": "stdout",
     "output_type": "stream",
     "text": [
      "/Users/graciela/Library/CloudStorage/Dropbox/MacroRecursive/NumMethods/Lectures/ComputationalEconomicsJulia\n"
     ]
    }
   ],
   "source": [
    "println(pwd())"
   ]
  },
  {
   "cell_type": "code",
   "execution_count": null,
   "id": "1944561c-63c9-432b-ab96-844df445abb9",
   "metadata": {},
   "outputs": [],
   "source": []
  }
 ],
 "metadata": {
  "kernelspec": {
   "display_name": "Julia 1.7.2",
   "language": "julia",
   "name": "julia-1.7"
  },
  "language_info": {
   "file_extension": ".jl",
   "mimetype": "application/julia",
   "name": "julia",
   "version": "1.7.2"
  }
 },
 "nbformat": 4,
 "nbformat_minor": 5
}
