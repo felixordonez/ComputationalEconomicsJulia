{
 "cells": [
  {
   "cell_type": "markdown",
   "metadata": {},
   "source": [
    "# Homework\n",
    "1. Program the solution of unconstraint minimization for $T=80$. How many variables we need to solve the problem? \n",
    "2. Program the solution of constraint minimization for $T=80$. How many equations, variables and constraint we need? \n",
    "3. Program the solution of Euler equation system solving by $c_t$ for $T=80$. How many equations and variables we need?\n",
    "4. Program the solution of Euler equation system solving by $a_t$ for $T=80$. How many equations and variables we need?\n",
    "5. Program the solution using bisection method (we review using Solow) for $T=80$. Explain the implementation. \n",
    "6. Plot the solution of (1), (2), (3), (4 )and (5) for $c_t$ and $a_t$ in a subplot.  \n",
    "7. Plot the time of solution by T and by method. \n",
    "8. Analize the role of $\\gamma$ in the utility function. How change utility, the dynamics of $c_t$ and $a_t$ for different $\\gamma$ values. Analize theoretically and graphically.   \n",
    "9. Present the Lagrangean, and the FOC and the Euler equations for the consumption-saving model. \n",
    "10. Using your fast method from 1-5, solve the consumption-saving model using a CARA utility function $u(c)=\\frac{1-e^{ac}}{a}$ for $a\\neq 0$. Plot the solution for $c_t$ and $a_t$ and compare with the solution of the CRRA utility.  "
   ]
  }
 ],
 "metadata": {
  "kernelspec": {
   "display_name": "Julia 1.10 1.10.0",
   "language": "julia",
   "name": "julia-1.10-1.10"
  },
  "language_info": {
   "name": "julia"
  }
 },
 "nbformat": 4,
 "nbformat_minor": 2
}
